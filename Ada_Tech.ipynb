{
 "cells": [
  {
   "cell_type": "markdown",
   "metadata": {},
   "source": [
    "Imagine que você está implementando um sistema para verificar se os alunos de uma turma estudantil passaram na disciplina ou não. Para isso solicite que o usuário insira as notas das 4 provas realizadas por um estudante e calcule a média. Após isso, emita uma resposta booleana (True ou False) se o estudante passou na disciplina pensando que a média mínima para aprovação é que seja pelo menos 5."
   ]
  },
  {
   "cell_type": "code",
   "execution_count": null,
   "metadata": {},
   "outputs": [],
   "source": [
    "# Solicita as notas das 4 provas\n",
    "nota1 = float(input(\"Digite a nota da prova 1: \"))\n",
    "nota2 = float(input(\"Digite a nota da prova 2: \"))\n",
    "nota3 = float(input(\"Digite a nota da prova 3: \"))\n",
    "nota4 = float(input(\"Digite a nota da prova 4: \"))\n",
    "\n",
    "# Calcula a média\n",
    "media = (nota1 + nota2 + nota3 + nota4) / 4\n",
    "\n",
    "# Verifica se o estudante passou\n",
    "aprovado = media >= 5\n",
    "\n",
    "# Exibe o resultado\n",
    "print(\"Média:\", media)\n",
    "print(\"Aprovado:\", aprovado)"
   ]
  },
  {
   "cell_type": "markdown",
   "metadata": {},
   "source": [
    "Crie um algoritmo que calcule o IMC (índice de massa corporal). O IMC é calculado com a formula PESO/(ALTURA ^ 2). Para isso, coloque as informações nas variáveis e ao final apresente o resultado como no exemplo: \"O IMC é 18\""
   ]
  },
  {
   "cell_type": "code",
   "execution_count": null,
   "metadata": {},
   "outputs": [],
   "source": [
    "# Solicita as informações ao usuário\n",
    "peso = float(input(\"Digite seu peso em kg (Exemplo 94): \"))\n",
    "altura = float(input(\"Digite sua altura em metros (Exemplo 1.74): \"))\n",
    "\n",
    "# Calcula o IMC\n",
    "imc = peso / (altura ** 2)\n",
    "\n",
    "# Exibe o resultado\n",
    "print(f\"O IMC é {imc:.2f}\")"
   ]
  },
  {
   "cell_type": "markdown",
   "metadata": {},
   "source": [
    "Escreva um algoritmo que calcule (x + y) * (x + y). Os valores de x e y devem ser inseridos pelo usuário."
   ]
  },
  {
   "cell_type": "code",
   "execution_count": null,
   "metadata": {},
   "outputs": [],
   "source": [
    "# Solicita os valores de x e y\n",
    "x = float(input(\"Digite o valor de x: \"))\n",
    "y = float(input(\"Digite o valor de y: \"))\n",
    "\n",
    "# Calcula (x + y) * (x + y)\n",
    "resultado = (x + y) * (x + y)\n",
    "\n",
    "# Exibe o resultado\n",
    "print(f\"O resultado é {resultado}\")"
   ]
  },
  {
   "cell_type": "markdown",
   "metadata": {},
   "source": [
    "1) Faça um programa que peça a idade do usuário e imprima se ele é maior ou menor de 18 anos."
   ]
  },
  {
   "cell_type": "code",
   "execution_count": null,
   "metadata": {},
   "outputs": [],
   "source": [
    "# Programa para verificar se o usuário é maior ou menor de 18 anos\n",
    "\n",
    "# Solicita a idade do usuário\n",
    "idade = int(input(\"Por favor, insira a sua idade: \"))\n",
    "\n",
    "# Verifica se o usuário é maior ou menor de 18 anos\n",
    "if idade >= 18:\n",
    "    print(\"Você é maior de idade.\")\n",
    "else:   \n",
    "    print(\"Você é menor de idade.\")"
   ]
  },
  {
   "cell_type": "markdown",
   "metadata": {},
   "source": [
    "2) Faça um programa que peça um número e mostre se ele é positivo ou negativo. Alternativa: acrescentar nulo"
   ]
  },
  {
   "cell_type": "code",
   "execution_count": null,
   "metadata": {},
   "outputs": [],
   "source": [
    "# Programa para verificar se um número é positivo, negativo ou nulo\n",
    "\n",
    "# Solicita um número do usuário\n",
    "numero = float(input(\"Por favor, insira um número: \"))\n",
    "\n",
    "# Verifica se o número é positivo, negativo ou nulo\n",
    "if numero > 0:\n",
    "    print(\"O número é positivo.\")\n",
    "elif numero < 0:\n",
    "    print(\"O número é negativo.\")\n",
    "else:\n",
    "    print(\"O número é nulo.\")"
   ]
  },
  {
   "cell_type": "markdown",
   "metadata": {},
   "source": [
    "3) Faça um programa que peça dois números e mostre o maior deles."
   ]
  },
  {
   "cell_type": "code",
   "execution_count": null,
   "metadata": {},
   "outputs": [],
   "source": [
    "# Programa para verificar qual dos dois números é maior\n",
    "\n",
    "# Solicita dois números do usuário\n",
    "numero1 = float(input(\"Por favor, insira o primeiro número: \"))\n",
    "numero2 = float(input(\"Por favor, insira o segundo número: \"))\n",
    "\n",
    "# Verifica qual número é maior e imprime o resultado\n",
    "if numero1 > numero2:\n",
    "    print(f\"O maior número é: {numero1}\")\n",
    "elif numero2 > numero1:\n",
    "    print(f\"O maior número é: {numero2}\")\n",
    "else:\n",
    "    print(\"Os dois números são iguais.\")"
   ]
  },
  {
   "cell_type": "markdown",
   "metadata": {},
   "source": [
    "4) Faça um programa que leia a validade das informações:\n",
    "\n",
    "a. Idade: entre 0 e 150;\n",
    "\n",
    "b. Salário: maior que 0;\n",
    "\n",
    "c. Sexo: M, F ou Outro;\n",
    "O programa deve imprimir uma mensagem de erro para cada informação inválida."
   ]
  },
  {
   "cell_type": "code",
   "execution_count": null,
   "metadata": {},
   "outputs": [],
   "source": [
    "# Programa para validar idade, salário e sexo\n",
    "\n",
    "# Função para validar a idade\n",
    "def validar_idade(idade):\n",
    "    if 0 <= idade <= 150:\n",
    "        return True\n",
    "    else:\n",
    "        print(\"Erro: Idade inválida. Deve estar entre 0 e 150.\")\n",
    "        return False\n",
    "\n",
    "# Função para validar o salário\n",
    "def validar_salario(salario):\n",
    "    if salario > 0:\n",
    "        return True\n",
    "    else:\n",
    "        print(\"Erro: Salário inválido. Deve ser maior que 0.\")\n",
    "        return False\n",
    "\n",
    "# Função para validar o sexo\n",
    "def validar_sexo(sexo):\n",
    "    if sexo in ['M', 'F', 'Outro']:\n",
    "        return True\n",
    "    else:\n",
    "        print(\"Erro: Sexo inválido. Deve ser 'M', 'F' ou 'Outro'.\")\n",
    "        return False\n",
    "\n",
    "# Solicita e valida a idade\n",
    "idade = int(input(\"Por favor, insira a sua idade: \"))\n",
    "idade_valida = validar_idade(idade)\n",
    "\n",
    "# Solicita e valida o salário\n",
    "salario = float(input(\"Por favor, insira o seu salário: \"))\n",
    "salario_valido = validar_salario(salario)\n",
    "\n",
    "# Solicita e valida o sexo\n",
    "sexo = input(\"Por favor, insira o seu sexo (M, F ou Outro): \")\n",
    "sexo_valido = validar_sexo(sexo)\n",
    "\n",
    "# Verifica se todas as informações são válidas\n",
    "if idade_valida and salario_valido and sexo_valido:\n",
    "    print(\"Todas as informações são válidas.\")\n",
    "else:\n",
    "    print(\"Há informações inválidas.\")"
   ]
  },
  {
   "cell_type": "markdown",
   "metadata": {},
   "source": [
    "5) Escreva um programa que peça a nota de 3 provas de um aluno e verifique se ele passou ou não de ano.\n",
    "Obs.: O aluno irá passar de ano se sua média for maior que 6."
   ]
  },
  {
   "cell_type": "code",
   "execution_count": null,
   "metadata": {},
   "outputs": [],
   "source": [
    "# Programa para verificar se o aluno passou de ano\n",
    "\n",
    "def calcular_media(nota1, nota2, nota3):\n",
    "    \"\"\"Calcula a média das três notas.\"\"\"\n",
    "    return (nota1 + nota2 + nota3) / 3\n",
    "\n",
    "def obter_nota(prova_num):\n",
    "    \"\"\"Solicita e valida a nota de uma prova.\"\"\"\n",
    "    while True:\n",
    "        try:\n",
    "            nota = float(input(f\"Por favor, insira a nota da prova {prova_num}: \"))\n",
    "            if 0 <= nota <= 10:\n",
    "                return nota\n",
    "            else:\n",
    "                print(\"Erro: A nota deve estar entre 0 e 10.\")\n",
    "        except ValueError:\n",
    "            print(\"Erro: Por favor, insira um valor numérico válido para a nota.\")\n",
    "\n",
    "def verificar_aprovacao(media):\n",
    "    \"\"\"Verifica se a média é suficiente para passar de ano.\"\"\"\n",
    "    if media >= 6:\n",
    "        print(f\"Você passou de ano com média {media:.2f}.\")\n",
    "    else:\n",
    "        print(f\"Você não passou de ano. Sua média foi {media:.2f}.\")\n",
    "\n",
    "if __name__ == \"__main__\":\n",
    "    # Solicita as notas das três provas\n",
    "    nota1 = obter_nota(1)\n",
    "    nota2 = obter_nota(2)\n",
    "    nota3 = obter_nota(3)\n",
    "    \n",
    "    # Calcula a média\n",
    "    media = calcular_media(nota1, nota2, nota3)\n",
    "    \n",
    "    # Verifica se o aluno passou de ano\n",
    "    verificar_aprovacao(media)"
   ]
  },
  {
   "cell_type": "markdown",
   "metadata": {},
   "source": [
    "6) Faça um programa que mostre uma questão de múltipla escolha com 5 opções (letras a, b, c, d, e). \n",
    "Sabendo a resposta certa, o programa deve receber a opção do usuário e informar a letra que o usuário marcou e se a resposta está certa ou errada."
   ]
  },
  {
   "cell_type": "code",
   "execution_count": null,
   "metadata": {},
   "outputs": [],
   "source": [
    "# Programa para apresentar uma questão de múltipla escolha e verificar a resposta\n",
    "\n",
    "def mostrar_questao():\n",
    "    \"\"\"Exibe a questão de múltipla escolha e suas opções.\"\"\"\n",
    "    print(\"Qual é a capital da França?\")\n",
    "    print(\"a) Berlim\")\n",
    "    print(\"b) Madrid\")\n",
    "    print(\"c) Paris\")\n",
    "    print(\"d) Lisboa\")\n",
    "    print(\"e) Roma\")\n",
    "\n",
    "def obter_resposta_usuario():\n",
    "    \"\"\"Solicita e valida a resposta do usuário.\"\"\"\n",
    "    while True:\n",
    "        resposta = input(\"Por favor, insira a letra da sua resposta (a, b, c, d, e): \").strip().lower()\n",
    "        if resposta in ['a', 'b', 'c', 'd', 'e']:\n",
    "            return resposta\n",
    "        else:\n",
    "            print(\"Erro: Opção inválida. Por favor, escolha uma letra entre a, b, c, d e e.\")\n",
    "\n",
    "def verificar_resposta(resposta, resposta_correta):\n",
    "    \"\"\"Verifica se a resposta do usuário está correta e imprime o resultado.\"\"\"\n",
    "    if resposta == resposta_correta:\n",
    "        print(f\"Você escolheu a opção '{resposta}'. Resposta correta!\")\n",
    "    else:\n",
    "        print(f\"Você escolheu a opção '{resposta}'. Resposta errada. A resposta correta é '{resposta_correta}'.\")\n",
    "\n",
    "if __name__ == \"__main__\":\n",
    "    # Define a resposta correta\n",
    "    resposta_correta = 'c'\n",
    "    \n",
    "    # Mostra a questão e as opções\n",
    "    mostrar_questao()\n",
    "    \n",
    "    # Obtém a resposta do usuário\n",
    "    resposta_usuario = obter_resposta_usuario()\n",
    "    \n",
    "    # Verifica a resposta do usuário\n",
    "    verificar_resposta(resposta_usuario, resposta_correta)"
   ]
  },
  {
   "cell_type": "markdown",
   "metadata": {},
   "source": [
    "7) Vamos fazer um programa para verificar quem é o assassino de um crime. Para descobrir o assassino, \n",
    "a polícia faz um pequeno questionário com 5 perguntas \n",
    "onde a resposta só pode ser sim ou não:\n",
    "\n",
    "a. Mora perto da vítima?\n",
    "\n",
    "b. Já trabalhou com a vítima?\n",
    "\n",
    "c. Telefonou para a vítima?\n",
    "\n",
    "d. Esteve no local do crime?\n",
    "\n",
    "e. Devia para a vítima?\n",
    "\n",
    "Cada resposta sim dá um ponto para o suspeito. A polícia considera que os suspeitos com 5 pontos são os assassinos, com 4 a 3 pontos \n",
    "são cúmplices e 2 pontos são apenas suspeitos, necessitando outras investigações. Valores iguais ou abaixo de 1 são liberados.\n"
   ]
  },
  {
   "cell_type": "code",
   "execution_count": null,
   "metadata": {},
   "outputs": [],
   "source": [
    "# Programa para verificar quem é o assassino de um crime\n",
    "\n",
    "def perguntar(pergunta):\n",
    "    \"\"\"Faz uma pergunta ao usuário e retorna 1 se a resposta for 'sim', 0 caso contrário.\"\"\"\n",
    "    while True:\n",
    "        resposta = input(pergunta + \" (sim/não): \").strip().lower()\n",
    "        if resposta == 'sim':\n",
    "            return 1\n",
    "        elif resposta == 'não':\n",
    "            return 0\n",
    "        else:\n",
    "            print(\"Erro: Por favor, responda com 'sim' ou 'não'.\")\n",
    "\n",
    "def classificar_suspeito(pontos):\n",
    "    \"\"\"Classifica o suspeito com base no número de pontos.\"\"\"\n",
    "    if pontos == 5:\n",
    "        return \"Assassino\"\n",
    "    elif 3 <= pontos <= 4:\n",
    "        return \"Cúmplice\"\n",
    "    elif pontos == 2:\n",
    "        return \"Suspeito\"\n",
    "    else:\n",
    "        return \"Liberado\"\n",
    "\n",
    "if __name__ == \"__main__\":\n",
    "    # Lista de perguntas\n",
    "    perguntas = [\n",
    "        \"Mora perto da vítima?\",\n",
    "        \"Já trabalhou com a vítima?\",\n",
    "        \"Telefonou para a vítima?\",\n",
    "        \"Esteve no local do crime?\",\n",
    "        \"Devia para a vítima?\"\n",
    "    ]\n",
    "    \n",
    "    # Contador de pontos\n",
    "    pontos = 0\n",
    "    \n",
    "    # Faz as perguntas e acumula os pontos\n",
    "    for pergunta in perguntas:\n",
    "        pontos += perguntar(pergunta)\n",
    "    \n",
    "    # Classifica o suspeito\n",
    "    classificacao = classificar_suspeito(pontos)\n",
    "    \n",
    "    # Exibe o resultado\n",
    "    print(f\"O suspeito tem {pontos} ponto(s) e é classificado como: {classificacao}.\")"
   ]
  },
  {
   "cell_type": "markdown",
   "metadata": {},
   "source": [
    "8) Um produto vai sofrer aumento de acordo com a Tabela 1 abaixo. Faça um programa que peça para o usuário digitar o valor do produto de acordo \n",
    "com o preço antigo e escreva uma das mensagens da Tabela 2, de acordo com o preço reajustado:\n",
    "\n",
    "Tabela 1\n",
    "\n",
    "| Preço Antigo         | % de aumento |\n",
    "|----------------------|--------------|\n",
    "| Até 50 reais         | 5%           |\n",
    "| Entre 50 e 100 reais | 10%          |\n",
    "| De 100 a 150 reais   | 13%          |\n",
    "| Acima de 150 reais   | 15%          |\n",
    "Tabela 2\n",
    "\n",
    "| Preço Novo            | Mensagem   |\n",
    "|-----------------------|------------|\n",
    "| Até 80 reais          | Barato     |\n",
    "| Entre 80 e 115 reais  | Razoável   |\n",
    "| Entre 115 e 150 reais | Normal     |\n",
    "| Entre 150 e 170 reais | Caro       |\n",
    "| Acima de 170 reais    | Muito Caro |\n"
   ]
  },
  {
   "cell_type": "code",
   "execution_count": null,
   "metadata": {},
   "outputs": [],
   "source": [
    "# Programa para calcular o aumento de preço e exibir a classificação do produto\n",
    "\n",
    "def calcular_preco_reajustado(preco_antigo):\n",
    "    \"\"\"Calcula o preço reajustado com base no preço antigo.\"\"\"\n",
    "    if preco_antigo <= 50:\n",
    "        aumento = 0.05\n",
    "    elif preco_antigo <= 100:\n",
    "        aumento = 0.10\n",
    "    elif preco_antigo <= 150:\n",
    "        aumento = 0.13\n",
    "    else:\n",
    "        aumento = 0.15\n",
    "    return preco_antigo * (1 + aumento)\n",
    "\n",
    "def classificar_preco(preco_novo):\n",
    "    \"\"\"Classifica o preço novo de acordo com a tabela.\"\"\"\n",
    "    if preco_novo <= 80:\n",
    "        return \"Barato\"\n",
    "    elif preco_novo <= 115:\n",
    "        return \"Razoável\"\n",
    "    elif preco_novo <= 150:\n",
    "        return \"Normal\"\n",
    "    elif preco_novo <= 170:\n",
    "        return \"Caro\"\n",
    "    else:\n",
    "        return \"Muito Caro\"\n",
    "\n",
    "if __name__ == \"__main__\":\n",
    "    # Solicita o valor do produto de acordo com o preço antigo\n",
    "    while True:\n",
    "        try:\n",
    "            preco_antigo = float(input(\"Digite o valor do produto (preço antigo): R$ \"))\n",
    "            if preco_antigo < 0:\n",
    "                print(\"Erro: O valor do produto deve ser positivo.\")\n",
    "            else:\n",
    "                break\n",
    "        except ValueError:\n",
    "            print(\"Erro: Por favor, insira um valor numérico válido para o preço.\")\n",
    "\n",
    "    # Calcula o preço reajustado\n",
    "    preco_novo = calcular_preco_reajustado(preco_antigo)\n",
    "    \n",
    "    # Classifica o preço reajustado\n",
    "    classificacao = classificar_preco(preco_novo)\n",
    "    \n",
    "    # Exibe o resultado\n",
    "    print(f\"O preço reajustado é: R$ {preco_novo:.2f}. Classificação: {classificacao}.\")"
   ]
  },
  {
   "cell_type": "markdown",
   "metadata": {},
   "source": [
    "9) Desafio 1 - Faça um programa que leia 3 números e informe o maior deles."
   ]
  },
  {
   "cell_type": "code",
   "execution_count": null,
   "metadata": {},
   "outputs": [],
   "source": [
    "# Programa para ler três números e informar o maior deles\n",
    "\n",
    "def obter_numero(mensagem):\n",
    "    \"\"\"Solicita um número ao usuário e retorna o valor.\"\"\"\n",
    "    while True:\n",
    "        try:\n",
    "            numero = float(input(mensagem))\n",
    "            return numero\n",
    "        except ValueError:\n",
    "            print(\"Erro: Por favor, insira um valor numérico válido.\")\n",
    "\n",
    "def encontrar_maior(numero1, numero2, numero3):\n",
    "    \"\"\"Encontra e retorna o maior entre três números.\"\"\"\n",
    "    return max(numero1, numero2, numero3)\n",
    "\n",
    "if __name__ == \"__main__\":\n",
    "    # Solicita três números ao usuário\n",
    "    numero1 = obter_numero(\"Digite o primeiro número: \")\n",
    "    numero2 = obter_numero(\"Digite o segundo número: \")\n",
    "    numero3 = obter_numero(\"Digite o terceiro número: \")\n",
    "    \n",
    "    # Encontra o maior número\n",
    "    maior_numero = encontrar_maior(numero1, numero2, numero3)\n",
    "    \n",
    "    # Exibe o resultado\n",
    "    print(f\"O maior número entre {numero1}, {numero2} e {numero3} é {maior_numero}.\")"
   ]
  },
  {
   "cell_type": "markdown",
   "metadata": {},
   "source": [
    "** Tarefa do 1 ao 4 do dia 17/07/2024 **"
   ]
  },
  {
   "cell_type": "markdown",
   "metadata": {},
   "source": [
    "1) Escreva um programa que solicite um número inteiro e imprima na tela todos os números de 1 até o número digitado, separado por espaços.  \n",
    "_Exemplo_  \n",
    "número digitado: 5  \n",
    "resultado esperado: 1 2 3 4 5"
   ]
  },
  {
   "cell_type": "code",
   "execution_count": null,
   "metadata": {},
   "outputs": [],
   "source": [
    "# Programa para imprimir todos os números de 1 até o número digitado\n",
    "\n",
    "def obter_numero_inteiro(mensagem):\n",
    "    \"\"\"Solicita um número inteiro ao usuário e retorna o valor.\"\"\"\n",
    "    while True:\n",
    "        try:\n",
    "            numero = int(input(mensagem))\n",
    "            if numero > 0:\n",
    "                return numero\n",
    "            else:\n",
    "                print(\"Erro: Por favor, insira um número inteiro positivo.\")\n",
    "        except ValueError:\n",
    "            print(\"Erro: Por favor, insira um valor numérico válido.\")\n",
    "\n",
    "if __name__ == \"__main__\":\n",
    "    # Solicita um número inteiro ao usuário\n",
    "    numero = obter_numero_inteiro(\"Digite um número inteiro positivo: \")\n",
    "    \n",
    "    # Imprime todos os números de 1 até o número digitado, separados por espaços\n",
    "    for i in range(1, numero + 1):\n",
    "        print(i, end=' ')\n",
    "    print()  # Adiciona uma nova linha no final da saída"
   ]
  },
  {
   "cell_type": "markdown",
   "metadata": {},
   "source": [
    "2) Faça um programa que mostre o fatorial de um número digitado.  \n",
    "_Exemplo_  \n",
    "número digitado: 5  \n",
    "resultado esperado: 120"
   ]
  },
  {
   "cell_type": "code",
   "execution_count": null,
   "metadata": {},
   "outputs": [],
   "source": [
    "# Programa para calcular o fatorial de um número\n",
    "\n",
    "def obter_numero_inteiro(mensagem):\n",
    "    \"\"\"Solicita um número inteiro positivo ao usuário e retorna o valor.\"\"\"\n",
    "    while True:\n",
    "        try:\n",
    "            numero = int(input(mensagem))\n",
    "            if numero >= 0:\n",
    "                return numero\n",
    "            else:\n",
    "                print(\"Erro: Por favor, insira um número inteiro não negativo.\")\n",
    "        except ValueError:\n",
    "            print(\"Erro: Por favor, insira um valor numérico válido.\")\n",
    "\n",
    "def calcular_fatorial(numero):\n",
    "    \"\"\"Calcula o fatorial de um número.\"\"\"\n",
    "    fatorial = 1\n",
    "    for i in range(1, numero + 1):\n",
    "        fatorial *= i\n",
    "    return fatorial\n",
    "\n",
    "if __name__ == \"__main__\":\n",
    "    # Solicita um número inteiro positivo ao usuário\n",
    "    numero = obter_numero_inteiro(\"Digite um número inteiro não negativo: \")\n",
    "    \n",
    "    # Calcula o fatorial do número\n",
    "    fatorial = calcular_fatorial(numero)\n",
    "    \n",
    "    # Exibe o resultado\n",
    "    print(f\"O fatorial de {numero} é {fatorial}.\")"
   ]
  },
  {
   "cell_type": "markdown",
   "metadata": {},
   "source": [
    "3) Faça um programa que imprima a tabuada do 9 na tela (entre 1 e 10). Insira a conta, por exemplo, 9 * 1 = 9, sendo cada um dos valores em uma linha diferente."
   ]
  },
  {
   "cell_type": "code",
   "execution_count": null,
   "metadata": {},
   "outputs": [],
   "source": [
    "# Programa para imprimir a tabuada do 9\n",
    "\n",
    "def imprimir_tabuada_9():\n",
    "    \"\"\"Imprime a tabuada do 9 de 1 a 10.\"\"\"\n",
    "    for i in range(1, 11):\n",
    "        resultado = 9 * i\n",
    "        print(f\"9 * {i} = {resultado}\")\n",
    "\n",
    "if __name__ == \"__main__\":\n",
    "    imprimir_tabuada_9()"
   ]
  },
  {
   "cell_type": "markdown",
   "metadata": {},
   "source": [
    "4) Faça um programa em que o usuário digite números quaisquer e encerrará no momento em que o valor 0 seja digitado. Ao final diga qual foi o maior número digitado."
   ]
  },
  {
   "cell_type": "code",
   "execution_count": null,
   "metadata": {},
   "outputs": [],
   "source": [
    "# Programa para encontrar o maior número digitado pelo usuário até que 0 seja digitado\n",
    "\n",
    "def obter_numero(mensagem):\n",
    "    \"\"\"Solicita um número ao usuário e retorna o valor.\"\"\"\n",
    "    while True:\n",
    "        try:\n",
    "            numero = float(input(mensagem))\n",
    "            return numero\n",
    "        except ValueError:\n",
    "            print(\"Erro: Por favor, insira um valor numérico válido.\")\n",
    "\n",
    "if __name__ == \"__main__\":\n",
    "    maior_numero = None  # Inicializa a variável para armazenar o maior número\n",
    "\n",
    "    while True:\n",
    "        numero = obter_numero(\"Digite um número (0 para encerrar): \")\n",
    "        if numero == 0:\n",
    "            break\n",
    "        if maior_numero is None or numero > maior_numero:\n",
    "            maior_numero = numero\n",
    "\n",
    "    if maior_numero is not None:\n",
    "        print(f\"O maior número digitado foi: {maior_numero}\")\n",
    "    else:\n",
    "        print(\"Nenhum número foi digitado.\")"
   ]
  },
  {
   "cell_type": "markdown",
   "metadata": {},
   "source": [
    "5) Faça um script que peça para o usuário digitar a idade, o salário e o sexo de uma pessoa até que as entradas digitadas sejam válidas.\n",
    "\n",
    "a. Idade: entre 0 e 150\n",
    "b. Salário: maior que 0\n",
    "c. Gênero: M, F ou Outro\n",
    "\n",
    "Por último imprima os dados recebidos do usuário."
   ]
  },
  {
   "cell_type": "code",
   "execution_count": null,
   "metadata": {},
   "outputs": [],
   "source": [
    "while True:\n",
    "    try:\n",
    "        idade = int(input(\"Digite a idade (entre 0 e 150): \"))\n",
    "        if 0 <= idade <= 150:\n",
    "            break\n",
    "        print(\"Erro: A idade deve ser entre 0 e 150.\")\n",
    "    except ValueError:\n",
    "        print(\"Erro: Por favor, insira um número inteiro válido.\")\n",
    "\n",
    "while True:\n",
    "    try:\n",
    "        salario = float(input(\"Digite o salário (maior que 0): \"))\n",
    "        if salario > 0:\n",
    "            break\n",
    "        print(\"Erro: O salário deve ser maior que 0.\")\n",
    "    except ValueError:\n",
    "        print(\"Erro: Por favor, insira um valor numérico válido.\")\n",
    "\n",
    "while True:\n",
    "    genero = input(\"Digite o gênero (M, F ou Outro): \").strip().upper()\n",
    "    if genero in ['M', 'F', 'OUTRO']:\n",
    "        break\n",
    "    print(\"Erro: Gênero inválido. Por favor, digite 'M', 'F' ou 'Outro'.\")\n",
    "\n",
    "print(\"\\nDados recebidos:\")\n",
    "print(f\"Idade: {idade} anos\")\n",
    "print(f\"Salário: R${salario:.2f}\")\n",
    "print(f\"Gênero: {genero}\")"
   ]
  },
  {
   "cell_type": "markdown",
   "metadata": {},
   "source": [
    "6) Faça uma calculadora. O usuário deve inserir qual a operação matemática ele deseja realizar e logo em seguida os dois números. O programa deve finalizar apenas quando o usuário digitar a opção \"sair\" no momento de escolha da operação matemática."
   ]
  },
  {
   "cell_type": "code",
   "execution_count": null,
   "metadata": {},
   "outputs": [],
   "source": [
    "def soma(num1, num2):\n",
    "    return num1 + num2\n",
    "\n",
    "def subtracao(num1, num2):\n",
    "    return num1 - num2\n",
    "\n",
    "def multiplicacao(num1, num2):\n",
    "    return num1 * num2\n",
    "\n",
    "def divisao(num1, num2):\n",
    "    return num1 / num2 if num2 != 0 else \"Erro: divisão por zero\"\n",
    "\n",
    "def calculadora():\n",
    "    operacoes = {'+': soma, '-': subtracao, '*': multiplicacao, '/': divisao}\n",
    "    while (operacao := input(\"\\nEscolha a operação (+, -, *, /) ou digite 'sair' para sair: \").strip().lower()) != 'sair':\n",
    "        if operacao in operacoes:\n",
    "            try:\n",
    "                num1, num2 = float(input(\"Digite o primeiro número: \")), float(input(\"Digite o segundo número: \"))\n",
    "                print(f\"Resultado: {operacoes[operacao](num1, num2)}\")\n",
    "            except ValueError:\n",
    "                print(\"Erro: Por favor, digite números válidos.\")\n",
    "        else:\n",
    "            print(\"Operação inválida. Tente novamente.\")\n",
    "    print(\"Saindo da calculadora...\")\n",
    "\n",
    "if __name__ == \"__main__\":\n",
    "    print(\"Calculadora simples - Digite 'sair' para encerrar.\")\n",
    "    calculadora()"
   ]
  }
 ],
 "metadata": {
  "kernelspec": {
   "display_name": "Python 3",
   "language": "python",
   "name": "python3"
  },
  "language_info": {
   "codemirror_mode": {
    "name": "ipython",
    "version": 3
   },
   "file_extension": ".py",
   "mimetype": "text/x-python",
   "name": "python",
   "nbconvert_exporter": "python",
   "pygments_lexer": "ipython3",
   "version": "3.12.4"
  }
 },
 "nbformat": 4,
 "nbformat_minor": 2
}
